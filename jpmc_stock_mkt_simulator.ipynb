{
  "cells": [
    {
      "cell_type": "code",
      "execution_count": 37,
      "metadata": {
        "execution": {
          "iopub.execute_input": "2023-03-06T11:20:51.409740Z",
          "iopub.status.busy": "2023-03-06T11:20:51.409081Z",
          "iopub.status.idle": "2023-03-06T11:20:51.414417Z",
          "shell.execute_reply": "2023-03-06T11:20:51.413201Z",
          "shell.execute_reply.started": "2023-03-06T11:20:51.409704Z"
        },
        "id": "hSm5DtUdUjDg"
      },
      "outputs": [],
      "source": [
        "import random\n",
        "import time"
      ]
    },
    {
      "cell_type": "code",
      "execution_count": 38,
      "metadata": {
        "execution": {
          "iopub.execute_input": "2023-03-06T11:20:51.428998Z",
          "iopub.status.busy": "2023-03-06T11:20:51.427722Z",
          "iopub.status.idle": "2023-03-06T11:20:51.435220Z",
          "shell.execute_reply": "2023-03-06T11:20:51.433835Z",
          "shell.execute_reply.started": "2023-03-06T11:20:51.428958Z"
        },
        "id": "TJ2rJHqaUjDi"
      },
      "outputs": [],
      "source": [
        "class Share:\n",
        "    # declaring company name, last traded price, previous day last trade price for each share\n",
        "    def __init__(self, company_name, last_traded_price, prev_day_last_trade):\n",
        "        self.company_name = company_name\n",
        "        self.bids = []\n",
        "        # bids array stores the bids for that particular share\n",
        "        self.asks = []\n",
        "        # asks array stores the asks for that particular share\n",
        "        self.last_traded_price = last_traded_price\n",
        "        self.prev_day_last_trade = prev_day_last_trade\n",
        "        self.last_trade_time = time.localtime()"
      ]
    },
    {
      "cell_type": "code",
      "execution_count": 39,
      "metadata": {
        "execution": {
          "iopub.execute_input": "2023-03-06T11:20:51.604741Z",
          "iopub.status.busy": "2023-03-06T11:20:51.604340Z",
          "iopub.status.idle": "2023-03-06T11:20:51.660535Z",
          "shell.execute_reply": "2023-03-06T11:20:51.659395Z",
          "shell.execute_reply.started": "2023-03-06T11:20:51.604706Z"
        },
        "id": "sCgcxfBDUjDj"
      },
      "outputs": [],
      "source": [
        "class StockExchange:\n",
        "    def __init__(self):\n",
        "        self.shares = []\n",
        "        self.ome = self.OrderMatchingEngine()\n",
        "    \n",
        "    def add_share(self, share):\n",
        "        self.shares.append(share)\n",
        "        \n",
        "    # function to retrieve the share corresponding to given company\n",
        "    def get_share(self, company_name):\n",
        "        for share in self.shares:\n",
        "            if share.company_name == company_name:\n",
        "                return share\n",
        "        return None\n",
        "    \n",
        "    # method to accept bid\n",
        "    def bid(self, bid_price, number, company_name, trader, stock_exchange):\n",
        "        share = self.get_share(company_name)\n",
        "        if not share:\n",
        "            return None\n",
        "        \n",
        "        t = time.localtime()\n",
        "        share.bids.append([bid_price, t, number, trader])\n",
        "        # bids are sorted in descending order of bid price, and ascending order of time according to price-time priority\n",
        "        share.bids = sorted(share.bids, key = lambda x: (-x[0],x[1]))\n",
        "        \n",
        "        # if the bid is not in top 5, no action is performed\n",
        "        checker = self.ome.check_bid_position(bid_price, number, t, trader, share)\n",
        "        if(checker >= 5) :\n",
        "            print(f'Bid of price Rs. {bid_price} is not in top 5!')\n",
        "            return None\n",
        "        print(f'{trader.name} bidding {number} shares of {company_name} at Rs. {bid_price}')\n",
        "\n",
        "        rem_number = 0\n",
        "        # invoking function to check for a trade (if possible), and returning the remaining number of shares (useful in case of partial trade) \n",
        "        rem_number = self.ome.accepted_bid(bid_price, number, company_name, trader, stock_exchange)\n",
        "        if(rem_number == None):\n",
        "            return\n",
        "        if rem_number > 0 :\n",
        "            # partial trade done\n",
        "            share.bids.remove([bid_price, t, number, trader])\n",
        "            share.bids.append([bid_price, t, rem_number, trader])\n",
        "            share.bids = sorted(share.bids, key = lambda x: (-x[0],x[1]))\n",
        "        if rem_number == 0 :\n",
        "            # all shares traded\n",
        "            share.bids.remove([bid_price, t, number, trader])\n",
        "    \n",
        "    # method to accept ask\n",
        "    def ask(self, ask_price, number, company_name, trader, stock_exchange):\n",
        "        share = self.get_share(company_name)\n",
        "        if not share:\n",
        "            return None\n",
        "        \n",
        "        t = time.localtime()\n",
        "        share.asks.append([ask_price, t, number, trader])\n",
        "        # asks are sorted in ascending order of ask price, and ascending order of time according to price-time priority\n",
        "        share.asks = sorted(share.asks, key = lambda x: (x[0],x[1]))\n",
        "        \n",
        "        # if the ask is not in top 5, no action is performed\n",
        "        checker = self.ome.check_ask_position(ask_price, number, t, trader, share)\n",
        "        if(checker >= 5) :\n",
        "            print(f'Ask of price Rs. {ask_price} is not in top 5!')\n",
        "            return None\n",
        "        print(f'{trader.name} selling {number} shares of {company_name} at Rs. {ask_price}')\n",
        "\n",
        "        rem_number = 0\n",
        "        # invoking function to check for a trade (if possible), and returning the remaining number of shares (useful in case of partial trade) \n",
        "        rem_number = self.ome.accepted_ask(ask_price, number, company_name, trader, stock_exchange)\n",
        "\n",
        "        if(rem_number == None):\n",
        "            return\n",
        "        if rem_number > 0 :\n",
        "            # partial trade done\n",
        "            share.asks.remove([ask_price, t, number, trader])\n",
        "            share.asks.append([ask_price, t, rem_number, trader])\n",
        "            share.asks = sorted(share.asks, key = lambda x: (x[0],x[1]))\n",
        "        if rem_number == 0 :\n",
        "            # all shares traded\n",
        "            share.asks.remove([ask_price, t, number, trader])\n",
        "    \n",
        "    # function for printing last traded price\n",
        "    def last_traded_price(self):\n",
        "        for share in self.shares:\n",
        "            print(f\"{share.company_name}: {share.last_traded_price}\")\n",
        "    \n",
        "    # function to get the best bid and ask for a share\n",
        "    def get_best_bid_ask(self, company_name):\n",
        "        share = self.get_share(company_name)\n",
        "        if not share:\n",
        "            print('Share not found!')\n",
        "            return None\n",
        "        if not share.bids and not share.asks:\n",
        "            return None, None\n",
        "        elif not share.bids:\n",
        "            return None, share.asks[0]\n",
        "        elif not share.asks:\n",
        "            return share.bids[0], None\n",
        "        else:\n",
        "            return share.bids[0], share.asks[0]\n",
        "    \n",
        "    # function to get top five best bids and asks for a share\n",
        "    def get_best_5_bid_ask(self, company_name):\n",
        "        share = self.get_share(company_name)\n",
        "        if not share:\n",
        "            print('Share not found!')\n",
        "            return None\n",
        "        top_5_bids = []\n",
        "        top_5_asks = []\n",
        "        for i in range(min(5, len(share.bids))):\n",
        "            top_5_bids.append(share.bids[i])\n",
        "        for i in range(min(5, len(share.asks))):\n",
        "            top_5_asks.append(share.asks[i])\n",
        "    \n",
        "    class OrderMatchingEngine :\n",
        "        \n",
        "        # checks if position is in top 5\n",
        "        def check_bid_position(self, bid_price, number, time, trader, share):\n",
        "            counter = 0\n",
        "            for i in share.bids:\n",
        "                if(i[0] == bid_price and i[1] == time and i[2] == number and i[3] is trader):\n",
        "                    return counter\n",
        "                counter += 1\n",
        "            return counter\n",
        "        \n",
        "        # checks if position is in top 5\n",
        "        def check_ask_position(self, ask_price, number, time, trader, share):\n",
        "            counter = 0\n",
        "            for i in share.asks:\n",
        "                if(i[0] == ask_price and i[1] == time and i[2] == number and i[3] is trader):\n",
        "                    return counter\n",
        "                counter += 1\n",
        "            return counter\n",
        "        \n",
        "        def accepted_bid(self, bid_price, number, company_name, trader, stock_exchange):\n",
        "           \n",
        "            # market time is between 09:00 hours and 15:30 hours \n",
        "            if(time.localtime().tm_hour < 9): \n",
        "                print('Cannot trade outside trading hours')\n",
        "                return None\n",
        "            if(time.localtime().tm_hour > 15):\n",
        "                print('Cannot trade outside trading hours')\n",
        "                print('TIME UP! Bids and Asks will now be empty')\n",
        "                for share in self.shares: \n",
        "                    share.bids = []\n",
        "                    share.asks = []\n",
        "                return None\n",
        "            if(time.localtime().tm_hour == 15 and time.localtime().tm_min > 30): \n",
        "                print('Cannot trade outside trading hours')\n",
        "                print('TIME UP! Bids and Asks will now be empty')\n",
        "                for share in self.shares: \n",
        "                    share.bids = []\n",
        "                    share.asks = []\n",
        "                return None\n",
        "            \n",
        "            share = stock_exchange.get_share(company_name)\n",
        "\n",
        "            while len(share.asks) > 0 and number != 0 and share.asks[0][0] <= bid_price:\n",
        "                # updates previous day price when the day changes\n",
        "                t = time.localtime()\n",
        "                if share.last_trade_time.tm_yday < t.tm_yday and share.last_trade_time.tm_yday != None:\n",
        "                    share.prev_day_last_trade = share.last_traded_price\n",
        "                \n",
        "                # updates last traded price and time whenever a trade is matched\n",
        "                share.last_traded_price = share.asks[0][0]\n",
        "                share.last_trade_time = t\n",
        "                \n",
        "                # matching the best ask with current bid\n",
        "                if share.asks[0][2] == number :\n",
        "                    print(f\"{trader.name} bought {number} shares of {company_name} from {share.asks[0][3].name} at price Rs. {share.asks[0][0]}\")                            \n",
        "                    share.asks[0][3].balance += (share.asks[0][0] * number)\n",
        "                    share.asks[0][3].portfolio[company_name] -= number\n",
        "                    trader.balance -= (share.asks[0][0] * number)\n",
        "                    trader.portfolio[company_name] += number\n",
        "                    share.asks.remove(share.asks[0])\n",
        "                    number = 0\n",
        "                # matching the best ask with current bid\n",
        "                elif share.asks[0][2] > number :\n",
        "                    print(f\"{trader.name} bought {number} shares of {company_name} from {share.asks[0][3].name} at price Rs. {share.asks[0][0]}\")\n",
        "                    share.asks[0][3].balance += (share.asks[0][0] * number)\n",
        "                    share.asks[0][3].portfolio[company_name] -= number\n",
        "                    trader.balance -= (share.asks[0][0] * number)\n",
        "                    trader.portfolio[company_name] += number\n",
        "                    share.asks[0][2] = share.asks[0][2] - number\n",
        "                    number = 0\n",
        "                # matching the best ask with current bid (partial matching here) \n",
        "                else :\n",
        "                    print(f\"{trader.name} bought {share.asks[0][2]} shares of {company_name} from {share.asks[0][3].name} at price Rs. {share.asks[0][0]}\")\n",
        "                    share.asks[0][3].balance += (share.asks[0][0] * share.asks[0][2])\n",
        "                    share.asks[0][3].portfolio[company_name] -= share.asks[0][2]\n",
        "                    trader.balance -= (share.asks[0][0] * share.asks[0][2])\n",
        "                    trader.portfolio[company_name] += share.asks[0][2]\n",
        "                    number -= share.asks[0][2]\n",
        "                    share.asks.remove(share.asks[0])\n",
        "\n",
        "            return number\n",
        "        \n",
        "        def accepted_ask(self, ask_price, number, company_name, trader, stock_exchange):\n",
        "            # market time is between 09:00 hours and 15:30 hours\n",
        "            \n",
        "            if(time.localtime().tm_hour < 9): \n",
        "                print('Cannot trade outside trading hours')\n",
        "                return None\n",
        "            if(time.localtime().tm_hour > 15):\n",
        "                print('Cannot trade outside trading hours')\n",
        "                print('TIME UP! Bids and Asks will now be empty')\n",
        "                for share in self.shares: \n",
        "                    share.bids = []\n",
        "                    share.asks = []\n",
        "                return None\n",
        "            if(time.localtime().tm_hour == 15 and time.localtime().tm_min > 30): \n",
        "                print('Cannot trade outside trading hours')\n",
        "                print('TIME UP! Bids and Asks will now be empty')\n",
        "                for share in self.shares: \n",
        "                    share.bids = []\n",
        "                    share.asks = []\n",
        "                return None\n",
        "            \n",
        "            share = stock_exchange.get_share(company_name)\n",
        "\n",
        "            while len(share.bids) > 0 and number != 0 and share.bids[0][0] >= ask_price:\n",
        "                # updates previous day price when the day changes               \n",
        "                t = time.localtime()\n",
        "                if share.last_trade_time.tm_yday < t.tm_yday :\n",
        "                    share.prev_day_last_trade = share.last_traded_price\n",
        "\n",
        "                # updates last traded price and time whenever a trade is matched\n",
        "                share.last_traded_price = ask_price\n",
        "                share.last_trade_time = t\n",
        "                \n",
        "                # matching the best bid with current ask\n",
        "                if share.bids[0][2] == number :\n",
        "                    print(f\"{trader.name} sold {number} shares of {company_name} to {share.asks[0][3].name} at price Rs. {ask_price}\")\n",
        "                    share.bids[0][3].balance -= (ask_price * number)\n",
        "                    share.bids[0][3].portfolio[company_name] += number\n",
        "                    trader.balance += (ask_price * number)\n",
        "                    trader.portfolio[company_name] -= number\n",
        "                    share.bids.remove(share.bids[0])\n",
        "                    number = 0\n",
        "                # matching the best bid with current ask\n",
        "                elif share.bids[0][2] > number :\n",
        "                    print(f\"{trader.name} sold {number} shares of {company_name} to {share.asks[0][3].name} at price Rs. {ask_price}\")\n",
        "                    share.bids[0][3].balance -= (ask_price * number)\n",
        "                    share.bids[0][3].portfolio[company_name] += number\n",
        "                    trader.balance += (ask_price * number)\n",
        "                    trader.portfolio[company_name] -= number\n",
        "                    share.bids[0][2] = share.bids[0][2] - number\n",
        "                    number = 0\n",
        "                # matching the best bid with current ask (partial matching here) \n",
        "                else :\n",
        "                    print(f\"{trader.name} sold {share.bids[0][2]} shares of {company_name} to {share.asks[0][3].name} at price Rs. {ask_price}\")\n",
        "                    share.bids[0][3].balance -= (ask_price * share.asks[0][2])\n",
        "                    share.bids[0][3].portfolio[company_name] += share.asks[0][2]\n",
        "                    trader.balance += (ask_price * share.asks[0][2])\n",
        "                    trader.portfolio[company_name] -= share.asks[0][2]\n",
        "                    number -= share.bids[0][2]\n",
        "                    share.bids.remove(share.bids[0])\n",
        "            return number"
      ]
    },
    {
      "cell_type": "code",
      "execution_count": 40,
      "metadata": {
        "execution": {
          "iopub.execute_input": "2023-03-06T11:20:51.663014Z",
          "iopub.status.busy": "2023-03-06T11:20:51.662469Z",
          "iopub.status.idle": "2023-03-06T11:20:51.688157Z",
          "shell.execute_reply": "2023-03-06T11:20:51.687192Z",
          "shell.execute_reply.started": "2023-03-06T11:20:51.662978Z"
        },
        "id": "r7-tGovWUjDn"
      },
      "outputs": [],
      "source": [
        "class Trader:\n",
        "    # each trader has attributes name, balance and portfolio (shares and respective count) \n",
        "    def __init__(self, name, balance, portfolio):\n",
        "        self.name = name\n",
        "        self.balance = balance\n",
        "        self.portfolio = portfolio\n",
        "        self.oms = self.OrderManagementSystem()\n",
        "        \n",
        "    def get_share(self, company_name, stock_exchange):\n",
        "        stock_exchange.get_share(company_name)\n",
        "    \n",
        "    # action by the trader to buy or sell stock\n",
        "    # buy_or_sell is 1 if trader wants to buy or 0 if he wants to sell\n",
        "    def action(self, company_name, quantity, buy_or_sell, stock_exchange, trader):\n",
        "        share = stock_exchange.get_share(company_name)\n",
        "\n",
        "        # for only a bid or an ask,choose the opposite side \n",
        "        if len(share.bids) + len(share.asks) == 1 :\n",
        "            if len(share.bids):\n",
        "                self.oms.sell_stock(share, quantity, trader, stock_exchange)\n",
        "            else :\n",
        "                self.oms.buy_stock(share, quantity, trader, stock_exchange)\n",
        "        elif buy_or_sell:\n",
        "            self.oms.buy_stock(share, quantity, trader, stock_exchange)\n",
        "        else :\n",
        "            self.oms.sell_stock(share, quantity, trader, stock_exchange)\n",
        "    \n",
        "    class OrderManagementSystem: \n",
        "        # method when the action is to buy\n",
        "        def buy_stock(self, share, quantity, trader, stock_exchange):\n",
        "            # trader can't bid if his balance is less than the total amount\n",
        "            if trader.balance < share.last_traded_price * quantity:\n",
        "                print(f\"Sorry, you don't have enough money to buy {quantity} shares of {share.company_name}.\")\n",
        "                return False\n",
        "\n",
        "            if len(share.bids) == 0 and len(share.asks) == 1 :\n",
        "                trade_price = random.choice([share.last_traded_price, share.asks[0][0] * 0.95])\n",
        "\n",
        "            elif len(share.bids) + len(share.asks) == 0 :\n",
        "                trade_price = random.choice([share.prev_day_last_trade * 1.05, share.prev_day_last_trade * 0.95])\n",
        "            else :\n",
        "                r = random.randint(1, 3)\n",
        "                if r == 1 :\n",
        "                    if len(share.bids):\n",
        "                        trade_price = share.bids[0][0]\n",
        "                    else :\n",
        "                        r = 2\n",
        "                if r == 2 :\n",
        "                    if len(share.asks):\n",
        "                        trade_price = share.asks[0][0]\n",
        "                    else :\n",
        "                        trade_price = share.bids[0][0]\n",
        "                else :\n",
        "                    if len(share.bids) and len(share.asks):\n",
        "                        trade_price = (share.asks[0][0] + share.bids[0][0]) / 2\n",
        "                    elif len(share.bids):\n",
        "                        trade_price = share.bids[0][0]\n",
        "                    else :\n",
        "                        trade_price = share.asks[0][0]\n",
        "            \n",
        "            stock_exchange.bid(trade_price, quantity, share.company_name, trader, stock_exchange)\n",
        "\n",
        "        # method when the action is to sell\n",
        "        def sell_stock(self, share, quantity, trader, stock_exchange):\n",
        "            # if trader does not have enough shares to sell\n",
        "            if share.company_name not in trader.portfolio or trader.portfolio[share.company_name] < quantity:\n",
        "                print(f\"Sorry, you don't have {quantity} shares of {share.company_name} to sell.\")\n",
        "                return False\n",
        "\n",
        "            if len(share.bids) == 1 and len(share.asks) == 0 :\n",
        "                trade_price = random.choice([share.last_traded_price, share.bids[0][0] * 1.05])\n",
        "            elif len(share.bids) + len(share.asks) == 0 :\n",
        "                trade_price = random.choice([share.prev_day_last_trade * 1.05, share.prev_day_last_trade * 0.95])\n",
        "            else :\n",
        "                r = random.randint(1, 3)\n",
        "                if r == 1 :\n",
        "                    if len(share.bids):\n",
        "                        trade_price = share.bids[0][0]\n",
        "                    else :\n",
        "                        r = 2\n",
        "                if r == 2 :\n",
        "                    if len(share.asks):\n",
        "                        trade_price = share.asks[0][0]\n",
        "                    else :\n",
        "                        trade_price = share.bids[0][0]\n",
        "                else :\n",
        "                    if len(share.bids) and len(share.asks):\n",
        "                        trade_price = (share.asks[0][0] + share.bids[0][0]) / 2\n",
        "                    elif len(share.bids):\n",
        "                        trade_price = share.bids[0][0]\n",
        "                    else :\n",
        "                        trade_price = share.asks[0][0]\n",
        "           \n",
        "            stock_exchange.ask(trade_price, quantity, share.company_name, trader, stock_exchange)\n",
        "\n",
        "        # display balance\n",
        "        def display_balance(self, trader): \n",
        "            print(f\"You have amount: Rs. {trader.balance}.\")\n",
        "        \n",
        "        # display portfolio\n",
        "        def display_portfolio(self, trader): \n",
        "            print(f\"Your portfolio: {trader.portfolio}.\")"
      ]
    },
    {
      "cell_type": "code",
      "execution_count": 41,
      "metadata": {
        "execution": {
          "iopub.execute_input": "2023-03-06T11:20:51.690532Z",
          "iopub.status.busy": "2023-03-06T11:20:51.689734Z",
          "iopub.status.idle": "2023-03-06T11:20:51.707249Z",
          "shell.execute_reply": "2023-03-06T11:20:51.706092Z",
          "shell.execute_reply.started": "2023-03-06T11:20:51.690483Z"
        },
        "id": "9TNFG6nxUjDo"
      },
      "outputs": [],
      "source": [
        "t1 = Trader(\"Aastha\", 20000, {'tech' : 5, 'energy' : 10} )\n",
        "t2 = Trader(\"Divya\", 25000, {'tech' : 10, 'energy' : 2} )\n",
        "t3 = Trader(\"Tanisha\",10000, {'tech' : 50, 'infra': 10, 'agri' : 2})\n",
        "t4 = Trader(\"Shally\", 35000, {} )\n",
        "t5 = Trader(\"Ankita\", 0, {'pharma' : 2, 'tech' : 20})"
      ]
    },
    {
      "cell_type": "code",
      "execution_count": 42,
      "metadata": {
        "execution": {
          "iopub.execute_input": "2023-03-06T11:20:51.711041Z",
          "iopub.status.busy": "2023-03-06T11:20:51.709509Z",
          "iopub.status.idle": "2023-03-06T11:20:51.720244Z",
          "shell.execute_reply": "2023-03-06T11:20:51.718885Z",
          "shell.execute_reply.started": "2023-03-06T11:20:51.710965Z"
        },
        "colab": {
          "base_uri": "https://localhost:8080/"
        },
        "id": "_nl6iTjHUjDo",
        "outputId": "651be3f7-f01c-47bd-ebef-674cf8353142"
      },
      "outputs": [
        {
          "output_type": "stream",
          "name": "stdout",
          "text": [
            "Your portfolio: {'tech': 5, 'energy': 10}.\n"
          ]
        }
      ],
      "source": [
        "t1.oms.display_portfolio(t1)"
      ]
    },
    {
      "cell_type": "code",
      "execution_count": 43,
      "metadata": {
        "execution": {
          "iopub.execute_input": "2023-03-06T11:20:51.722709Z",
          "iopub.status.busy": "2023-03-06T11:20:51.722110Z",
          "iopub.status.idle": "2023-03-06T11:20:51.736732Z",
          "shell.execute_reply": "2023-03-06T11:20:51.735400Z",
          "shell.execute_reply.started": "2023-03-06T11:20:51.722671Z"
        },
        "colab": {
          "base_uri": "https://localhost:8080/"
        },
        "id": "b6ddVpdHUjDp",
        "outputId": "7a93ca77-8947-49bf-e98a-923c16d7bdcb"
      },
      "outputs": [
        {
          "output_type": "stream",
          "name": "stdout",
          "text": [
            "You have amount: Rs. 25000.\n"
          ]
        }
      ],
      "source": [
        "t2.oms.display_balance(t2)"
      ]
    },
    {
      "cell_type": "code",
      "execution_count": 44,
      "metadata": {
        "execution": {
          "iopub.execute_input": "2023-03-06T11:20:51.739639Z",
          "iopub.status.busy": "2023-03-06T11:20:51.738138Z",
          "iopub.status.idle": "2023-03-06T11:20:51.747800Z",
          "shell.execute_reply": "2023-03-06T11:20:51.746895Z",
          "shell.execute_reply.started": "2023-03-06T11:20:51.739596Z"
        },
        "id": "voUVkKcUUjDp"
      },
      "outputs": [],
      "source": [
        "A = Share(\"tech\", 120, 120)\n",
        "B = Share(\"energy\", 3, 3)\n",
        "C = Share(\"infra\", 45, 45)\n",
        "D = Share(\"agri\", 111, 111)\n",
        "E = Share(\"pharma\", 63, 63)"
      ]
    },
    {
      "cell_type": "code",
      "execution_count": 45,
      "metadata": {
        "execution": {
          "iopub.execute_input": "2023-03-06T11:20:51.749662Z",
          "iopub.status.busy": "2023-03-06T11:20:51.748892Z",
          "iopub.status.idle": "2023-03-06T11:20:51.761455Z",
          "shell.execute_reply": "2023-03-06T11:20:51.760489Z",
          "shell.execute_reply.started": "2023-03-06T11:20:51.749627Z"
        },
        "id": "0uK4wk8WUjDq"
      },
      "outputs": [],
      "source": [
        "NSE = StockExchange()\n",
        "NSE.add_share(A)\n",
        "NSE.add_share(B)\n",
        "NSE.add_share(C)\n",
        "NSE.add_share(D)\n",
        "NSE.add_share(E)"
      ]
    },
    {
      "cell_type": "code",
      "execution_count": 46,
      "metadata": {
        "execution": {
          "iopub.execute_input": "2023-03-06T11:20:51.763526Z",
          "iopub.status.busy": "2023-03-06T11:20:51.762799Z",
          "iopub.status.idle": "2023-03-06T11:20:51.820149Z",
          "shell.execute_reply": "2023-03-06T11:20:51.817010Z",
          "shell.execute_reply.started": "2023-03-06T11:20:51.763489Z"
        },
        "colab": {
          "base_uri": "https://localhost:8080/"
        },
        "id": "Kg8uqeqoUjDq",
        "outputId": "cc21642a-9e11-4598-fdb7-41aeabb9cf2e"
      },
      "outputs": [
        {
          "output_type": "stream",
          "name": "stdout",
          "text": [
            "Aastha selling 5 shares of tech at Rs. 114.0\n"
          ]
        }
      ],
      "source": [
        "t1.action(\"tech\", 5, 0, NSE, t1)"
      ]
    },
    {
      "cell_type": "code",
      "execution_count": 47,
      "metadata": {
        "execution": {
          "iopub.status.busy": "2023-03-06T11:20:51.821325Z",
          "iopub.status.idle": "2023-03-06T11:20:51.822117Z",
          "shell.execute_reply": "2023-03-06T11:20:51.821925Z",
          "shell.execute_reply.started": "2023-03-06T11:20:51.821900Z"
        },
        "colab": {
          "base_uri": "https://localhost:8080/"
        },
        "id": "UAzOweCvUjDq",
        "outputId": "f1bc1951-17a4-4642-94af-cb08fd2a96ce"
      },
      "outputs": [
        {
          "output_type": "stream",
          "name": "stdout",
          "text": [
            "Your portfolio: {'tech': 5, 'energy': 10}.\n"
          ]
        }
      ],
      "source": [
        "t1.oms.display_portfolio(t1)"
      ]
    },
    {
      "cell_type": "code",
      "execution_count": 48,
      "metadata": {
        "colab": {
          "base_uri": "https://localhost:8080/"
        },
        "id": "Ib2eO68RUjDr",
        "outputId": "3f075397-882f-495c-a3f5-c115d51b01a2"
      },
      "outputs": [
        {
          "output_type": "execute_result",
          "data": {
            "text/plain": [
              "[[114.0,\n",
              "  time.struct_time(tm_year=2023, tm_mon=3, tm_mday=13, tm_hour=15, tm_min=12, tm_sec=6, tm_wday=0, tm_yday=72, tm_isdst=0),\n",
              "  5,\n",
              "  <__main__.Trader at 0x7f505b452790>]]"
            ]
          },
          "metadata": {},
          "execution_count": 48
        }
      ],
      "source": [
        "A.asks"
      ]
    },
    {
      "cell_type": "code",
      "execution_count": 49,
      "metadata": {
        "execution": {
          "iopub.status.busy": "2023-03-06T11:20:51.825268Z",
          "iopub.status.idle": "2023-03-06T11:20:51.825746Z",
          "shell.execute_reply": "2023-03-06T11:20:51.825545Z",
          "shell.execute_reply.started": "2023-03-06T11:20:51.825522Z"
        },
        "colab": {
          "base_uri": "https://localhost:8080/"
        },
        "id": "Vr6Ho8eHUjDr",
        "outputId": "777bbc6b-4624-4ba2-e4c2-a789c39344a0"
      },
      "outputs": [
        {
          "output_type": "stream",
          "name": "stdout",
          "text": [
            "Divya bidding 7 shares of tech at Rs. 108.3\n"
          ]
        }
      ],
      "source": [
        "t2.action(\"tech\", 7, 1, NSE, t2)"
      ]
    },
    {
      "cell_type": "code",
      "execution_count": 50,
      "metadata": {
        "execution": {
          "iopub.status.busy": "2023-03-06T11:20:51.827502Z",
          "iopub.status.idle": "2023-03-06T11:20:51.827966Z",
          "shell.execute_reply": "2023-03-06T11:20:51.827768Z",
          "shell.execute_reply.started": "2023-03-06T11:20:51.827745Z"
        },
        "colab": {
          "base_uri": "https://localhost:8080/"
        },
        "id": "IxJSmHTHUjDs",
        "outputId": "0dec2fda-bf09-413a-83c9-ea00dc6229e1"
      },
      "outputs": [
        {
          "output_type": "execute_result",
          "data": {
            "text/plain": [
              "[[108.3,\n",
              "  time.struct_time(tm_year=2023, tm_mon=3, tm_mday=13, tm_hour=15, tm_min=12, tm_sec=16, tm_wday=0, tm_yday=72, tm_isdst=0),\n",
              "  7,\n",
              "  <__main__.Trader at 0x7f505b452a30>]]"
            ]
          },
          "metadata": {},
          "execution_count": 50
        }
      ],
      "source": [
        "A.bids"
      ]
    },
    {
      "cell_type": "code",
      "execution_count": 51,
      "metadata": {
        "colab": {
          "base_uri": "https://localhost:8080/"
        },
        "id": "qQzw2nGxUjDs",
        "outputId": "675f24e7-a661-4313-b731-a0a0968542b2"
      },
      "outputs": [
        {
          "output_type": "stream",
          "name": "stdout",
          "text": [
            "Aastha selling 2 shares of tech at Rs. 114.0\n"
          ]
        }
      ],
      "source": [
        "t1.action(\"tech\", 2, 0, NSE, t1)"
      ]
    },
    {
      "cell_type": "code",
      "execution_count": 52,
      "metadata": {
        "colab": {
          "base_uri": "https://localhost:8080/"
        },
        "id": "QXgJJSrrUjDs",
        "outputId": "d9a5a730-3681-4634-909b-42ce3d714415"
      },
      "outputs": [
        {
          "output_type": "execute_result",
          "data": {
            "text/plain": [
              "[[114.0,\n",
              "  time.struct_time(tm_year=2023, tm_mon=3, tm_mday=13, tm_hour=15, tm_min=12, tm_sec=6, tm_wday=0, tm_yday=72, tm_isdst=0),\n",
              "  5,\n",
              "  <__main__.Trader at 0x7f505b452790>],\n",
              " [114.0,\n",
              "  time.struct_time(tm_year=2023, tm_mon=3, tm_mday=13, tm_hour=15, tm_min=12, tm_sec=28, tm_wday=0, tm_yday=72, tm_isdst=0),\n",
              "  2,\n",
              "  <__main__.Trader at 0x7f505b452790>]]"
            ]
          },
          "metadata": {},
          "execution_count": 52
        }
      ],
      "source": [
        "A.asks"
      ]
    },
    {
      "cell_type": "code",
      "execution_count": 53,
      "metadata": {
        "execution": {
          "iopub.status.busy": "2023-03-06T11:20:51.845802Z",
          "iopub.status.idle": "2023-03-06T11:20:51.846252Z",
          "shell.execute_reply": "2023-03-06T11:20:51.846063Z",
          "shell.execute_reply.started": "2023-03-06T11:20:51.846039Z"
        },
        "colab": {
          "base_uri": "https://localhost:8080/"
        },
        "id": "MYCJ-w7vUjDv",
        "outputId": "1ec23ba3-5389-48ea-f578-2806f05b5a6b"
      },
      "outputs": [
        {
          "output_type": "stream",
          "name": "stdout",
          "text": [
            "Tanisha bidding 2 shares of infra at Rs. 47.25\n"
          ]
        }
      ],
      "source": [
        "t3.action(\"infra\", 2, 1, NSE, t3)"
      ]
    }
  ],
  "metadata": {
    "kernelspec": {
      "display_name": "Python 3 (ipykernel)",
      "language": "python",
      "name": "python3"
    },
    "language_info": {
      "codemirror_mode": {
        "name": "ipython",
        "version": 3
      },
      "file_extension": ".py",
      "mimetype": "text/x-python",
      "name": "python",
      "nbconvert_exporter": "python",
      "pygments_lexer": "ipython3",
      "version": "3.9.12"
    },
    "colab": {
      "provenance": []
    }
  },
  "nbformat": 4,
  "nbformat_minor": 0
}